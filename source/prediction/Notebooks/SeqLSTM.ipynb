{
 "cells": [
  {
   "cell_type": "code",
   "execution_count": 1,
   "id": "c8b53b2a",
   "metadata": {},
   "outputs": [],
   "source": [
    "import sys\n",
    "import numpy as np\n",
    "import pandas as pd \n",
    "import seaborn as sns\n",
    "import matplotlib.pyplot as plt\n",
    "import tensorflow as tf"
   ]
  },
  {
   "cell_type": "code",
   "execution_count": 2,
   "id": "1a663171",
   "metadata": {},
   "outputs": [
    {
     "name": "stdout",
     "output_type": "stream",
     "text": [
      "GPU device not found\n"
     ]
    }
   ],
   "source": [
    "device_name = tf.test.gpu_device_name()\n",
    "if device_name != '/device:GPU:0':\n",
    "  print('GPU device not found')\n",
    "else:\n",
    "  print('Found GPU at: {}'.format(device_name))"
   ]
  },
  {
   "cell_type": "code",
   "execution_count": 3,
   "id": "bc1f1618",
   "metadata": {},
   "outputs": [],
   "source": [
    "pd.set_option('display.max_columns', 50)\n",
    "pd.set_option('display.max_rows', 100)\n",
    "pd.set_option('display.float_format', lambda x: '%.5f' % x)\n",
    "akarsu_df = pd.read_csv('../RelevantData/akarsu_relevant.csv', parse_dates = ['Tarih'], index_col = 'Tarih')\n",
    "akarsu_cols = ['Fekal_Koliform', 'Toplam_Koliform', 'Toplam_Fosfor', 'Toplam_Kjeldahl_Azotu', 'Kimyasal_Oksijen_İhtiyacı', 'Nitrat_Azotu', 'Çözünmüş_Oksijen']"
   ]
  },
  {
   "cell_type": "code",
   "execution_count": 4,
   "id": "7aeab799",
   "metadata": {},
   "outputs": [],
   "source": [
    "# Removing Toplam_Pestisit column because 90% of it is empty.\n",
    "akarsu_df = akarsu_df.drop(columns = 'Toplam_Pestisit')\n",
    "# Dropping missing features\n",
    "akarsu_df = akarsu_df.dropna()\n",
    "# Manually correcting dates of two samples\n",
    "akarsu_df.index = akarsu_df.index.str.replace(\"28:.12.2016\", \"28.12.2016\", regex = True)\n",
    "akarsu_df.index = akarsu_df.index.str.replace(\"22.009.2016\", \"22.09.2016\", regex = True)"
   ]
  },
  {
   "cell_type": "code",
   "execution_count": 5,
   "id": "2b69cabd",
   "metadata": {},
   "outputs": [],
   "source": [
    "# Scale features\n",
    "akarsu_scaled = akarsu_df.copy()\n",
    "from sklearn.preprocessing import MinMaxScaler\n",
    "scaler = MinMaxScaler()\n",
    "for i in akarsu_cols:\n",
    "    akarsu_scaled[[i]] = scaler.fit_transform(akarsu_df[[i]])\n",
    "\n",
    "akarsu_scaled.index = pd.to_datetime(akarsu_scaled.index, yearfirst = True)\n",
    "akarsu_df.index = pd.to_datetime(akarsu_df.index, yearfirst = True)\n",
    "df = akarsu_scaled"
   ]
  },
  {
   "cell_type": "code",
   "execution_count": 6,
   "id": "0adfa5d8",
   "metadata": {},
   "outputs": [],
   "source": [
    "df['chunkID'] = df.groupby('Numune_Adı').ngroup()\n",
    "df = df.drop(labels = ['Numune_Adı'], axis = 1)\n",
    "df = df.sort_values(by=['chunkID', 'Tarih'])"
   ]
  },
  {
   "cell_type": "code",
   "execution_count": 7,
   "id": "05347791",
   "metadata": {},
   "outputs": [],
   "source": [
    "# Split Data\n",
    "test_df = df.loc[df['chunkID'] == 43]\n",
    "df = df[df['chunkID'] != 43]\n",
    "data = df.drop(columns = 'chunkID')\n",
    "test_df = test_df.drop(columns = 'chunkID')\n",
    "\n",
    "n_timesteps = 4 # Length of the output sequences\n",
    "batch_size = 8 # Number of timeseries samples in each batch\n",
    "\n",
    "rows_per_month = 1\n",
    "test_months = 12 # last # of rows to split\n",
    "test_indices = test_months * rows_per_month    \n",
    "\n",
    "train = data.iloc[:-test_indices]\n",
    "#test = data.iloc[-test_indices:]\n",
    "test = test_df\n",
    "test_idx = test_df.index"
   ]
  },
  {
   "cell_type": "code",
   "execution_count": 8,
   "id": "feb7c24e",
   "metadata": {},
   "outputs": [],
   "source": [
    "from tensorflow.keras.preprocessing.sequence import TimeseriesGenerator\n",
    "# Generate timeseries data\n",
    "train_generator = TimeseriesGenerator(train.values, targets = train.values, length = n_timesteps, batch_size = batch_size)\n",
    "test_generator = TimeseriesGenerator(test.values, targets = test.values, length = 1, batch_size = 1)"
   ]
  },
  {
   "cell_type": "code",
   "execution_count": 17,
   "id": "afd02d80",
   "metadata": {},
   "outputs": [
    {
     "name": "stdout",
     "output_type": "stream",
     "text": [
      "Model: \"model_4\"\n",
      "__________________________________________________________________________________________________\n",
      "Layer (type)                    Output Shape         Param #     Connected to                     \n",
      "==================================================================================================\n",
      "encoder_inputs (InputLayer)     [(None, 4, 7)]       0                                            \n",
      "__________________________________________________________________________________________________\n",
      "decoder_inputs (InputLayer)     [(None, 4, 7)]       0                                            \n",
      "__________________________________________________________________________________________________\n",
      "encoder_lstm (LSTM)             [(None, 4, 100), (No 43200       encoder_inputs[0][0]             \n",
      "__________________________________________________________________________________________________\n",
      "decoder_lstm (LSTM)             [(None, 4, 100), (No 43200       decoder_inputs[0][0]             \n",
      "                                                                 encoder_lstm[0][1]               \n",
      "                                                                 encoder_lstm[0][2]               \n",
      "__________________________________________________________________________________________________\n",
      "outputs (Dense)                 (None, 4, 7)         707         decoder_lstm[0][0]               \n",
      "==================================================================================================\n",
      "Total params: 87,107\n",
      "Trainable params: 87,107\n",
      "Non-trainable params: 0\n",
      "__________________________________________________________________________________________________\n"
     ]
    }
   ],
   "source": [
    "from tensorflow.keras.models import Sequential, Model\n",
    "from tensorflow.keras.layers import LSTM, Dense, Activation, Input, LeakyReLU\n",
    "\n",
    "neurons = 100\n",
    "n_features = 7\n",
    "# Encoder\n",
    "encoder_inputs = Input(shape = (n_timesteps, train.shape[1]), name = \"encoder_inputs\")\n",
    "encoder_lstm, state_h, state_c = LSTM(neurons, return_sequences = True, return_state=True, name = \"encoder_lstm\")(encoder_inputs)\n",
    "encoder_states = [state_h, state_c]\n",
    "# Decoder\n",
    "decoder_inputs = Input(shape=(n_timesteps, train.shape[1]), name='decoder_inputs')\n",
    "decoder_lstm = LSTM(neurons, return_sequences=True, return_state=True, name='decoder_lstm')\n",
    "decoder_outputs, _, _ = decoder_lstm(decoder_inputs,\n",
    "                                     initial_state = encoder_states)\n",
    "decoder_dense = Dense(n_features, activation='relu', name='outputs')(decoder_outputs)\n",
    "# Create & compile model\n",
    "model = Model(inputs = [encoder_inputs, decoder_inputs], outputs = decoder_dense)\n",
    "model.compile(optimizer='adam', loss = 'mse', metrics= ['accuracy'])\n",
    "model.summary()"
   ]
  },
  {
   "cell_type": "code",
   "execution_count": 18,
   "id": "4aafa05c",
   "metadata": {},
   "outputs": [],
   "source": [
    "#history = model.fit(train_generator, epochs = 10)"
   ]
  },
  {
   "cell_type": "code",
   "execution_count": 30,
   "id": "a368e032",
   "metadata": {},
   "outputs": [],
   "source": [
    "from random import randint\n",
    "def generate_sequence(length, n_unique):\n",
    "    return [randint(1, n_unique-1) for _ in range(length)]\n",
    "def get_encoder_triple(time_steps,vocabulary_size,verbose= False):\n",
    "    \n",
    "# generate random sequence\n",
    "    sequence_in = generate_sequence(time_steps, vocabulary_size)\n",
    "    encoder_in = sequence_in.copy()\n",
    "    decoder_out = sequence_in[::-1]\n",
    "    decoder_in = decoder_out.copy()\n",
    "    decoder_in.insert(0,0)\n",
    "    decoder_in.pop()\n",
    "# one hot encode\n",
    "\n",
    "# reshape as 3D\n",
    "    X_encoder_in = encoder_in.reshape((1, encoder_in.shape[0], encoder_in.shape[1]))\n",
    "    X_decoder_in = decoder_in.reshape((1, decoder_in.shape[0], decoder_in.shape[1]))\n",
    "    y_decoder_out = decoder_out.reshape((1, decoder_out.shape[0], decoder_out.shape[1]))\n",
    "\n",
    "    if(verbose):\n",
    "        print('\\nSample X_encoder_in X_decoder_in and y_decoder_out')\n",
    "        print('\\nIn raw format:')\n",
    "        print('X_encoder_in=%s, X_decoder_in=%s, y_decoder_out=%s' % \n",
    "              (one_hot_decode(X_encoder_in[0]), one_hot_decode(X_decoder_in[0]), \n",
    "               one_hot_decode(y_decoder_out[0])))\n",
    "        print('\\nIn one_hot_encoded format:')\n",
    "        print('X_encoder_in=%s' % (X_encoder_in[0]))\n",
    "        print('X_decoder_in=%s' % (X_decoder_in[0]))\n",
    "        print('y_decoder_out=%s' % (y_decoder_out[0]))\n",
    "    return [array(X_encoder_in), array(X_decoder_in), array(y_decoder_out)]"
   ]
  },
  {
   "cell_type": "code",
   "execution_count": 31,
   "id": "654d1de4",
   "metadata": {},
   "outputs": [],
   "source": [
    "def create_encoder_dataset(train_size, test_size, time_steps,vocabulary_size, verbose= False):\n",
    "    X_encoder_in = list()\n",
    "    X_decoder_in = list()\n",
    "    y_decoder_out = list()\n",
    "    \n",
    "    for _ in range(train_size):\n",
    "        triple=get_encoder_triple(time_steps,vocabulary_size) \n",
    "        X_encoder_in.append(triple[0])\n",
    "        X_decoder_in.append(triple[1])\n",
    "        y_decoder_out.append(triple[2])\n",
    "\n",
    "    X_encoder_in= array(X_encoder_in).squeeze()\n",
    "    X_decoder_in= array(X_decoder_in).squeeze()\n",
    "    y_decoder_out= array(y_decoder_out).squeeze()\n",
    "    if(verbose):\n",
    "        print('\\nGenerated sequence datasets as follows')\n",
    "        print('X_encoder_in.shape: ', X_encoder_in.shape)\n",
    "        print('X_decoder_in.shape: ', X_decoder_in.shape)\n",
    "        print('y_decoder_out.shape: ', y_decoder_out.shape)\n",
    "        print('Sample sequences in raw format:')\n",
    "\n",
    "        print('X_encoder_in: \\n', one_hot_decode(X_encoder_in[0]))\n",
    "        print('X_decoder_in: \\n', one_hot_decode(X_decoder_in[0]))\n",
    "        print('y_decoder_out: \\n',one_hot_decode(y_decoder_out[0]))\n",
    "\n",
    "        print('Sample sequences in one-hot encoded format:')\n",
    "        print('X_encoder_in: \\n', X_encoder_in[0])\n",
    "        print('X_decoder_in: \\n', X_decoder_in[0])\n",
    "        print('y_decoder_out: \\n', y_decoder_out[0])\n",
    "    return X_encoder_in,X_decoder_in, y_decoder_out"
   ]
  },
  {
   "cell_type": "code",
   "execution_count": 32,
   "id": "21face5a",
   "metadata": {},
   "outputs": [
    {
     "ename": "AttributeError",
     "evalue": "'list' object has no attribute 'reshape'",
     "output_type": "error",
     "traceback": [
      "\u001b[0;31m---------------------------------------------------------------------------\u001b[0m",
      "\u001b[0;31mAttributeError\u001b[0m                            Traceback (most recent call last)",
      "\u001b[0;32m<ipython-input-32-9923761ea3a1>\u001b[0m in \u001b[0;36m<module>\u001b[0;34m\u001b[0m\n\u001b[0;32m----> 1\u001b[0;31m \u001b[0me\u001b[0m\u001b[0;34m,\u001b[0m \u001b[0md\u001b[0m\u001b[0;34m,\u001b[0m \u001b[0mdp\u001b[0m \u001b[0;34m=\u001b[0m \u001b[0mcreate_encoder_dataset\u001b[0m\u001b[0;34m(\u001b[0m\u001b[0;36m100\u001b[0m\u001b[0;34m,\u001b[0m \u001b[0;36m100\u001b[0m\u001b[0;34m,\u001b[0m \u001b[0mn_timesteps\u001b[0m \u001b[0;34m,\u001b[0m\u001b[0mn_features\u001b[0m \u001b[0;34m,\u001b[0m \u001b[0mverbose\u001b[0m\u001b[0;34m=\u001b[0m\u001b[0;32mTrue\u001b[0m\u001b[0;34m)\u001b[0m\u001b[0;34m\u001b[0m\u001b[0;34m\u001b[0m\u001b[0m\n\u001b[0m",
      "\u001b[0;32m<ipython-input-31-f057dd7ca9d5>\u001b[0m in \u001b[0;36mcreate_encoder_dataset\u001b[0;34m(train_size, test_size, time_steps, vocabulary_size, verbose)\u001b[0m\n\u001b[1;32m      5\u001b[0m \u001b[0;34m\u001b[0m\u001b[0m\n\u001b[1;32m      6\u001b[0m     \u001b[0;32mfor\u001b[0m \u001b[0m_\u001b[0m \u001b[0;32min\u001b[0m \u001b[0mrange\u001b[0m\u001b[0;34m(\u001b[0m\u001b[0mtrain_size\u001b[0m\u001b[0;34m)\u001b[0m\u001b[0;34m:\u001b[0m\u001b[0;34m\u001b[0m\u001b[0;34m\u001b[0m\u001b[0m\n\u001b[0;32m----> 7\u001b[0;31m         \u001b[0mtriple\u001b[0m\u001b[0;34m=\u001b[0m\u001b[0mget_encoder_triple\u001b[0m\u001b[0;34m(\u001b[0m\u001b[0mtime_steps\u001b[0m\u001b[0;34m,\u001b[0m\u001b[0mvocabulary_size\u001b[0m\u001b[0;34m)\u001b[0m\u001b[0;34m\u001b[0m\u001b[0;34m\u001b[0m\u001b[0m\n\u001b[0m\u001b[1;32m      8\u001b[0m         \u001b[0mX_encoder_in\u001b[0m\u001b[0;34m.\u001b[0m\u001b[0mappend\u001b[0m\u001b[0;34m(\u001b[0m\u001b[0mtriple\u001b[0m\u001b[0;34m[\u001b[0m\u001b[0;36m0\u001b[0m\u001b[0;34m]\u001b[0m\u001b[0;34m)\u001b[0m\u001b[0;34m\u001b[0m\u001b[0;34m\u001b[0m\u001b[0m\n\u001b[1;32m      9\u001b[0m         \u001b[0mX_decoder_in\u001b[0m\u001b[0;34m.\u001b[0m\u001b[0mappend\u001b[0m\u001b[0;34m(\u001b[0m\u001b[0mtriple\u001b[0m\u001b[0;34m[\u001b[0m\u001b[0;36m1\u001b[0m\u001b[0;34m]\u001b[0m\u001b[0;34m)\u001b[0m\u001b[0;34m\u001b[0m\u001b[0;34m\u001b[0m\u001b[0m\n",
      "\u001b[0;32m<ipython-input-30-fe2385228733>\u001b[0m in \u001b[0;36mget_encoder_triple\u001b[0;34m(time_steps, vocabulary_size, verbose)\u001b[0m\n\u001b[1;32m     14\u001b[0m \u001b[0;34m\u001b[0m\u001b[0m\n\u001b[1;32m     15\u001b[0m \u001b[0;31m# reshape as 3D\u001b[0m\u001b[0;34m\u001b[0m\u001b[0;34m\u001b[0m\u001b[0;34m\u001b[0m\u001b[0m\n\u001b[0;32m---> 16\u001b[0;31m     \u001b[0mX_encoder_in\u001b[0m \u001b[0;34m=\u001b[0m \u001b[0mencoder_in\u001b[0m\u001b[0;34m.\u001b[0m\u001b[0mreshape\u001b[0m\u001b[0;34m(\u001b[0m\u001b[0;34m(\u001b[0m\u001b[0;36m1\u001b[0m\u001b[0;34m,\u001b[0m \u001b[0mencoder_in\u001b[0m\u001b[0;34m.\u001b[0m\u001b[0mshape\u001b[0m\u001b[0;34m[\u001b[0m\u001b[0;36m0\u001b[0m\u001b[0;34m]\u001b[0m\u001b[0;34m,\u001b[0m \u001b[0mencoder_in\u001b[0m\u001b[0;34m.\u001b[0m\u001b[0mshape\u001b[0m\u001b[0;34m[\u001b[0m\u001b[0;36m1\u001b[0m\u001b[0;34m]\u001b[0m\u001b[0;34m)\u001b[0m\u001b[0;34m)\u001b[0m\u001b[0;34m\u001b[0m\u001b[0;34m\u001b[0m\u001b[0m\n\u001b[0m\u001b[1;32m     17\u001b[0m     \u001b[0mX_decoder_in\u001b[0m \u001b[0;34m=\u001b[0m \u001b[0mdecoder_in\u001b[0m\u001b[0;34m.\u001b[0m\u001b[0mreshape\u001b[0m\u001b[0;34m(\u001b[0m\u001b[0;34m(\u001b[0m\u001b[0;36m1\u001b[0m\u001b[0;34m,\u001b[0m \u001b[0mdecoder_in\u001b[0m\u001b[0;34m.\u001b[0m\u001b[0mshape\u001b[0m\u001b[0;34m[\u001b[0m\u001b[0;36m0\u001b[0m\u001b[0;34m]\u001b[0m\u001b[0;34m,\u001b[0m \u001b[0mdecoder_in\u001b[0m\u001b[0;34m.\u001b[0m\u001b[0mshape\u001b[0m\u001b[0;34m[\u001b[0m\u001b[0;36m1\u001b[0m\u001b[0;34m]\u001b[0m\u001b[0;34m)\u001b[0m\u001b[0;34m)\u001b[0m\u001b[0;34m\u001b[0m\u001b[0;34m\u001b[0m\u001b[0m\n\u001b[1;32m     18\u001b[0m     \u001b[0my_decoder_out\u001b[0m \u001b[0;34m=\u001b[0m \u001b[0mdecoder_out\u001b[0m\u001b[0;34m.\u001b[0m\u001b[0mreshape\u001b[0m\u001b[0;34m(\u001b[0m\u001b[0;34m(\u001b[0m\u001b[0;36m1\u001b[0m\u001b[0;34m,\u001b[0m \u001b[0mdecoder_out\u001b[0m\u001b[0;34m.\u001b[0m\u001b[0mshape\u001b[0m\u001b[0;34m[\u001b[0m\u001b[0;36m0\u001b[0m\u001b[0;34m]\u001b[0m\u001b[0;34m,\u001b[0m \u001b[0mdecoder_out\u001b[0m\u001b[0;34m.\u001b[0m\u001b[0mshape\u001b[0m\u001b[0;34m[\u001b[0m\u001b[0;36m1\u001b[0m\u001b[0;34m]\u001b[0m\u001b[0;34m)\u001b[0m\u001b[0;34m)\u001b[0m\u001b[0;34m\u001b[0m\u001b[0;34m\u001b[0m\u001b[0m\n",
      "\u001b[0;31mAttributeError\u001b[0m: 'list' object has no attribute 'reshape'"
     ]
    }
   ],
   "source": [
    "e, d, dp = create_encoder_dataset(100, 100, n_timesteps ,n_features , verbose=True)"
   ]
  },
  {
   "cell_type": "code",
   "execution_count": null,
   "id": "dcee7f2b",
   "metadata": {},
   "outputs": [],
   "source": []
  },
  {
   "cell_type": "code",
   "execution_count": null,
   "id": "b13a9e44",
   "metadata": {},
   "outputs": [],
   "source": []
  }
 ],
 "metadata": {
  "kernelspec": {
   "display_name": "Python 3",
   "language": "python",
   "name": "python3"
  },
  "language_info": {
   "codemirror_mode": {
    "name": "ipython",
    "version": 3
   },
   "file_extension": ".py",
   "mimetype": "text/x-python",
   "name": "python",
   "nbconvert_exporter": "python",
   "pygments_lexer": "ipython3",
   "version": "3.8.5"
  }
 },
 "nbformat": 4,
 "nbformat_minor": 5
}
